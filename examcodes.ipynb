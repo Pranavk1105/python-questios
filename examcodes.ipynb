{
 "cells": [
  {
   "cell_type": "markdown",
   "metadata": {},
   "source": [
    "Explain the following ways to print formatted output with the help of\n",
    "examples:\n",
    "i) %\n",
    "ii) format\n",
    "iii)f-string"
   ]
  },
  {
   "cell_type": "code",
   "execution_count": 3,
   "metadata": {},
   "outputs": [
    {
     "name": "stdout",
     "output_type": "stream",
     "text": [
      "name:Rajkoli \n",
      "age:18\n"
     ]
    }
   ],
   "source": [
    "# %(format)\n",
    "name='Rajkoli'\n",
    "age=18\n",
    "print(\"name:%s \\nage:%d\" %(name,age ))"
   ]
  },
  {
   "cell_type": "code",
   "execution_count": 1,
   "metadata": {},
   "outputs": [
    {
     "name": "stdout",
     "output_type": "stream",
     "text": [
      "{1, 3, 4}\n"
     ]
    }
   ],
   "source": [
    "my_set={1,2,3}\n",
    "my_set.add(4)\n",
    "my_set.remove(2)\n",
    "print(my_set)"
   ]
  },
  {
   "cell_type": "code",
   "execution_count": null,
   "metadata": {},
   "outputs": [],
   "source": [
    "num=int(input(\"Enter the number:\"))\n",
    "\n",
    "if num >0:\n",
    "    print(\"The number is positive.\")\n"
   ]
  },
  {
   "cell_type": "code",
   "execution_count": 2,
   "metadata": {},
   "outputs": [
    {
     "name": "stdout",
     "output_type": "stream",
     "text": [
      "* \n",
      "* * \n",
      "* * * \n",
      "* * * * \n",
      "* * * * * \n"
     ]
    }
   ],
   "source": [
    "rows= 5\n",
    "for i in range(1, rows +1):\n",
    "    print('* ' * i)"
   ]
  },
  {
   "cell_type": "code",
   "execution_count": 11,
   "metadata": {},
   "outputs": [
    {
     "name": "stdout",
     "output_type": "stream",
     "text": [
      "The numbers are a = 15 and b = 4\n",
      "Addition is (a + b) =  19\n",
      "Addition is (a - b) =  11\n",
      "Addition is (a * b) =  60\n",
      "Addition is (a / b) =  3.75\n",
      "Addition is (a // b) =  3\n",
      "Addition is (a ** b) =  50625\n",
      "Modulus is (a % b)=  3\n"
     ]
    }
   ],
   "source": [
    "# Q1. WAP to demonstate arithmetic operators\n",
    "a=15\n",
    "b=4\n",
    "\n",
    "print(f\"The numbers are a = {a} and b = {b}\")\n",
    "addition=a+b\n",
    "print(f\"Addition is (a + b) = \",addition)\n",
    "Subtraction=a-b\n",
    "print(f\"Addition is (a - b) = \",Subtraction)\n",
    "Multiplication=a*b\n",
    "print(f\"Addition is (a * b) = \",Multiplication)\n",
    "Division=a/b\n",
    "print(f\"Addition is (a / b) = \",Division)\n",
    "FloorDivision=a//b\n",
    "print(f\"Addition is (a // b) = \",FloorDivision)\n",
    "Exponent=a**b\n",
    "print(f\"Addition is (a ** b) = \",Exponent)\n",
    "modulus=a%b\n",
    "print('Modulus is (a % b)= ',modulus)\n",
    "\n",
    "\n"
   ]
  },
  {
   "cell_type": "code",
   "execution_count": 15,
   "metadata": {},
   "outputs": [
    {
     "name": "stdout",
     "output_type": "stream",
     "text": [
      "The greatest number among three is 15\n"
     ]
    }
   ],
   "source": [
    "#wap to find greatest number among three numbers\n",
    "a=12\n",
    "b=13\n",
    "c=15\n",
    "\n",
    "if a>=b and a>=c :\n",
    "    print(f\"The greatest number among three is {a}\")\n",
    "elif b>=c and b>=a:\n",
    "    print(f\"The greatest number among three is {b}\")\n",
    "else:\n",
    "    print(f\"The greatest number among three is {c}\")"
   ]
  },
  {
   "cell_type": "code",
   "execution_count": 1,
   "metadata": {},
   "outputs": [
    {
     "name": "stdout",
     "output_type": "stream",
     "text": [
      "The sum of all the numbers from the 5 to 15 is 110\n"
     ]
    }
   ],
   "source": [
    "#Wap to add numbers from 5 to 15 using for loop\n",
    "sum=0\n",
    "for i in range (5,16):\n",
    "    sum+=i\n",
    "print(f\"The sum of all the numbers from the 5 to 15 is {sum}\")\n",
    "    "
   ]
  },
  {
   "cell_type": "code",
   "execution_count": 21,
   "metadata": {},
   "outputs": [
    {
     "name": "stdout",
     "output_type": "stream",
     "text": [
      "The factorial of 5 is 120. \n"
     ]
    }
   ],
   "source": [
    "#wap to find factorial of a number\n",
    "num=int(input(\"Enter the number:\"))\n",
    "factorial=1\n",
    "\n",
    "if num<0:\n",
    "    print('Factorial does not exists for negative numbers')\n",
    "elif num==0:\n",
    "    print(['The Factorial for 0 is 1'])\n",
    "else :\n",
    "    for i in range(1,num+1):\n",
    "        factorial *=i\n",
    "    print(f\"The factorial of {num} is {factorial}. \")\n",
    "    "
   ]
  },
  {
   "cell_type": "code",
   "execution_count": null,
   "metadata": {},
   "outputs": [
    {
     "name": "stdout",
     "output_type": "stream",
     "text": [
      " * \n",
      " *  * \n",
      " *  *  * \n",
      " *  *  *  * \n",
      " *  *  *  *  * \n"
     ]
    }
   ],
   "source": [
    "#Wap to print the following patterns:\n",
    "rows=5\n",
    "for i in range (1,6):\n",
    "    print('* ' * i)"
   ]
  },
  {
   "cell_type": "code",
   "execution_count": 28,
   "metadata": {},
   "outputs": [
    {
     "name": "stdout",
     "output_type": "stream",
     "text": [
      "* * * * * \n",
      "* * * * \n",
      "* * * \n",
      "* * \n",
      "* \n"
     ]
    }
   ],
   "source": [
    "#Wap to print the following patterns:\n",
    "rows=5\n",
    "for i in range (rows,0,-1):\n",
    "    print('* ' * i)"
   ]
  },
  {
   "cell_type": "code",
   "execution_count": 35,
   "metadata": {},
   "outputs": [
    {
     "name": "stdout",
     "output_type": "stream",
     "text": [
      "    * \n",
      "   * * \n",
      "  * * * \n",
      " * * * * \n",
      "* * * * * \n"
     ]
    }
   ],
   "source": [
    "#Wap to print the following patterns:\n",
    "rows=5\n",
    "for i in range (1,6):\n",
    "    print( ' ' * (rows - i) + '* ' * i )"
   ]
  },
  {
   "cell_type": "code",
   "execution_count": 45,
   "metadata": {},
   "outputs": [
    {
     "name": "stdout",
     "output_type": "stream",
     "text": [
      "* * * * * \n",
      " * * * * \n",
      "  * * * \n",
      "   * * \n",
      "    * \n"
     ]
    }
   ],
   "source": [
    "##Wap to print the following patterns:\n",
    "rows=5\n",
    "for i in range (rows,0,-1):\n",
    "    print(' ' * (rows - i) + '* ' * i)"
   ]
  },
  {
   "cell_type": "code",
   "execution_count": 1,
   "metadata": {},
   "outputs": [
    {
     "name": "stdout",
     "output_type": "stream",
     "text": [
      "The sum is 15\n",
      "The average is 3.0\n"
     ]
    }
   ],
   "source": [
    "#wap to calculate sum and average of a given array: arr=('i', [1,2,3,4,5])\n",
    "arr=('i',[1,2,3,4,5])\n",
    "num= arr[1]\n",
    "\n",
    "total_sum_value = sum(num)\n",
    "\n",
    "average= total_sum_value / len(num)\n",
    "\n",
    "print(f\"The sum is {total_sum_value}\")\n",
    "print(f'The average is {average}')"
   ]
  },
  {
   "cell_type": "code",
   "execution_count": 12,
   "metadata": {},
   "outputs": [
    {
     "name": "stdout",
     "output_type": "stream",
     "text": [
      "88 is not prime\n"
     ]
    }
   ],
   "source": [
    "# create a function to check whether number is prime or not\n",
    "def is_prime(num):\n",
    "    \n",
    "\tif num<=1:\n",
    "\t\treturn False\n",
    "\telse:\n",
    "\t\tfor i in range(2,int(num**0.5 +1 )):\n",
    "\t\t\tif num%i==0:\n",
    "\t\t\t\t\treturn False\n",
    "\treturn True\n",
    "number=int(input(\"Enter the number: \"))\n",
    "\n",
    "if is_prime(number) :\n",
    "\tprint(f'{number} is prime ')\n",
    "else:\n",
    "\tprint(f'{number} is not prime')\n",
    "\n",
    "\t\t\t\t \n",
    "\t\t\t\t "
   ]
  },
  {
   "cell_type": "code",
   "execution_count": 92,
   "metadata": {},
   "outputs": [
    {
     "name": "stdout",
     "output_type": "stream",
     "text": [
      "0 1 1 2 3 5 8 13 21 34 "
     ]
    }
   ],
   "source": [
    "#wap create a recursive function tp print fibonacci series upto 10 terms\n",
    "def fibonacci(n,a=0,b=1):\n",
    "    if n>0:\n",
    "        print(a, end=' ')\n",
    "        fibonacci(n-1,b,a+b)\n",
    "fibonacci(10)\n",
    "    \n",
    "\n",
    "\n",
    "\n",
    "\n"
   ]
  },
  {
   "cell_type": "code",
   "execution_count": 14,
   "metadata": {},
   "outputs": [
    {
     "name": "stdout",
     "output_type": "stream",
     "text": [
      "pranav is not a palindrome\n"
     ]
    }
   ],
   "source": [
    "#wap to check whether the string is palindrome or not\n",
    "def palindrome(s):\n",
    "    s =s.lower()\n",
    "    if s==s[::-1]:\n",
    "        return True\n",
    "    else:\n",
    "        False\n",
    "\n",
    "str=input(\"Enter the string: \")\n",
    "if palindrome(str):\n",
    "    print(f\"{str} is palindrome\")\n",
    "else:\n",
    "    print(f'{str} is not a palindrome')\n",
    "\n",
    "    \n",
    "     \n",
    "    \n"
   ]
  },
  {
   "cell_type": "code",
   "execution_count": 98,
   "metadata": {},
   "outputs": [
    {
     "name": "stdout",
     "output_type": "stream",
     "text": [
      "The sum of the number is 21\n"
     ]
    }
   ],
   "source": [
    "#10 wap to calculate a user defined function to calculate sum of varaible number of arguments using the concept of variable length argument in function \n",
    "def sum_of_num(*args):\n",
    "    total=0\n",
    "    for num in args:\n",
    "        total+=num\n",
    "    return total\n",
    "\n",
    "\n",
    "result=sum_of_num(1,2,3,4,5,6)\n",
    "print(f'The sum of the number is {result}')\n",
    "        \n",
    "    \n"
   ]
  },
  {
   "cell_type": "code",
   "execution_count": 100,
   "metadata": {},
   "outputs": [
    {
     "name": "stdout",
     "output_type": "stream",
     "text": [
      "The Original list is [1, 2, 3, 3, 4, 5, 5, 4, 6]\n",
      "The Unique list is [1, 2, 3, 4, 5, 6]\n"
     ]
    }
   ],
   "source": [
    "#11 write a python program to remove duplicates from list\n",
    "def remove_duplicates(lst):\n",
    "    return list(set(lst))\n",
    "\n",
    "my_list= [1,2,3,3,4,5,5,4,6]\n",
    "print(f'The Original list is {my_list}')\n",
    "\n",
    "unique_list=remove_duplicates(my_list)\n",
    "print(f'The Unique list is {unique_list}')\n",
    "    \n"
   ]
  },
  {
   "cell_type": "code",
   "execution_count": 101,
   "metadata": {},
   "outputs": [
    {
     "name": "stdout",
     "output_type": "stream",
     "text": [
      "The squares of a number from 1 to 10 is [1, 4, 9, 16, 25, 36, 49, 64, 81, 100]\n"
     ]
    }
   ],
   "source": [
    "#12 wap to calculate sqaure of a number from 1 to 10 using list comprehension. \n",
    "squares= [i**2 for i in range(1,11)]\n",
    "\n",
    "print(f'The squares of a number from 1 to 10 is {squares}')\n",
    "\n"
   ]
  },
  {
   "cell_type": "code",
   "execution_count": 4,
   "metadata": {},
   "outputs": [
    {
     "name": "stdout",
     "output_type": "stream",
     "text": [
      "The Element-wise sum of the said tuples: (6, 9, 8, 6)\n"
     ]
    }
   ],
   "source": [
    "#13 wap program to compute the elements-wise sum of given tuples \n",
    "# orginal ; (1,2,3,4) (3,5,2,1) (2,2,3,1)\n",
    "# Elements-wise sum of the said tuples : (6,9,8,6)\n",
    "\n",
    "tuple1= (1,2,3,4)\n",
    "tuple2=(3,5,2,1)\n",
    "tuple3=(2,2,3,1)\n",
    "\n",
    "\n",
    "element_wise= tuple(sum(x) for x in zip( tuple1 , tuple2 , tuple3))\n",
    "print(f\"The Element-wise sum of the said tuples: {element_wise}\")"
   ]
  },
  {
   "cell_type": "code",
   "execution_count": 5,
   "metadata": {},
   "outputs": [
    {
     "name": "stdout",
     "output_type": "stream",
     "text": [
      "Unique items from the two sets {1, 2, 5, 6}\n"
     ]
    }
   ],
   "source": [
    "#14 wap to get only unique items from two sets\n",
    "set1={1,2,3,4}\n",
    "set2={3,4,5,6}\n",
    "\n",
    "unique_items= set1 ^ set2\n",
    "print('Unique items from the two sets',unique_items)\n",
    "    \n",
    "\n",
    "\n",
    "\n",
    "\n",
    "\n"
   ]
  },
  {
   "cell_type": "code",
   "execution_count": 135,
   "metadata": {},
   "outputs": [
    {
     "name": "stdout",
     "output_type": "stream",
     "text": [
      "Dictionary with even ages: {'jack': 38, 'michael': 48}\n"
     ]
    }
   ],
   "source": [
    "#15  use dictionary comprehension to create a dictioonary to store only key value pairs having even age.\n",
    "\n",
    "age_dict = original_dict = {'jack': 38, 'michael': 48, 'guido': 57, 'john': 33}\n",
    "even_age_dict={key: value for key, value in age_dict.items() if value % 2 == 0}\n",
    "print(\"Dictionary with even ages:\", even_age_dict)\n",
    "\n",
    "\n"
   ]
  },
  {
   "cell_type": "markdown",
   "metadata": {},
   "source": []
  },
  {
   "cell_type": "code",
   "execution_count": null,
   "metadata": {},
   "outputs": [
    {
     "name": "stdout",
     "output_type": "stream",
     "text": [
      "String without spaces: Pythonisveryeasy\n",
      "String without spaces: Pythonisveryeasy\n"
     ]
    }
   ],
   "source": [
    "#16 wap to remove spaces from given string:\n",
    "# \"Pyrhon is very easy\"# Given string\n",
    "# method 1:\n",
    "string = \"Python is very easy\"\n",
    "string_without_spaces = string.replace(\" \", \"\")\n",
    "print(\"String without spaces:\", string_without_spaces)\n",
    "\n",
    "# method2:\n",
    " \n",
    "string_without_spaces = \"\".join(string.split())\n",
    "\n",
    "print(\"String without spaces:\", string_without_spaces)"
   ]
  },
  {
   "cell_type": "code",
   "execution_count": 2,
   "metadata": {},
   "outputs": [
    {
     "name": "stdout",
     "output_type": "stream",
     "text": [
      "The simple interest is: {:,2f} 1051.05\n"
     ]
    }
   ],
   "source": [
    "# 17 wap to input principle_amount , rate , time from the user. Calculate simple interest and print the value of simple interest using format function\n",
    "p=float(input(\"Enter the principle amount: \"))\n",
    "r=float(input(\"Enter the rate of interest: \"))\n",
    "t=int(input(\"Enter the time: \"))\n",
    "\n",
    "simple_interest= (p*r*t)/100\n",
    "\n",
    "print('The simple interest is: {:,2f}',format(simple_interest))\n"
   ]
  },
  {
   "cell_type": "code",
   "execution_count": 139,
   "metadata": {},
   "outputs": [
    {
     "name": "stdout",
     "output_type": "stream",
     "text": [
      "The area of the circle is: 113.10\n",
      "The perimeter (circumference) of the circle is: 37.70\n"
     ]
    }
   ],
   "source": [
    "# 18) Write a Python class named Circle. Declare an instance variable, radius and\n",
    "# two methods that will compute the area and the perimeter of a circle.\n",
    "\n",
    "import math\n",
    "\n",
    "class Circle:\n",
    "    def __init__(self, radius):\n",
    "        # Instance variable radius\n",
    "        self.radius = radius\n",
    "\n",
    "    def area(self):\n",
    "        # Method to compute the area of the circle\n",
    "        return math.pi * (self.radius ** 2)\n",
    "\n",
    "    def perimeter(self):\n",
    "        # Method to compute the perimeter (circumference) of the circle\n",
    "        return 2 * math.pi * self.radius\n",
    "\n",
    "\n",
    "# Example usage:\n",
    "radius = float(input(\"Enter the radius of the circle: \"))\n",
    "\n",
    "# Create an instance of the Circle class\n",
    "circle = Circle(radius)\n",
    "\n",
    "# Calculate area and perimeter\n",
    "area = circle.area()\n",
    "perimeter = circle.perimeter()\n",
    "\n",
    "# Print the results\n",
    "print(f\"The area of the circle is: {area:.2f}\")\n",
    "print(f\"The perimeter (circumference) of the circle is: {perimeter:.2f}\")"
   ]
  },
  {
   "cell_type": "code",
   "execution_count": 145,
   "metadata": {},
   "outputs": [
    {
     "name": "stdout",
     "output_type": "stream",
     "text": [
      "Number of words in the file: 3\n"
     ]
    }
   ],
   "source": [
    "# 20) WAP to Count the Number of Words in a Text File\n",
    "def count_words_in_file(file_name):\n",
    "    word_count = 0\n",
    "    try:\n",
    "        # Open the file in read mode\n",
    "        with open(file_name, 'r') as file:\n",
    "            # Loop through each line in the file\n",
    "            for line in file:\n",
    "                # Split the line into words and count them\n",
    "                word_count += len(line.split())\n",
    "        \n",
    "        return word_count\n",
    "\n",
    "    except FileNotFoundError:\n",
    "        return f\"Error: The file {file_name} was not found.\"\n",
    "\n",
    "# Ask the user for the file name\n",
    "file_name = input(\"Enter the name of the text file (including extension): \")\n",
    "\n",
    "# Count the words and display the result\n",
    "word_count = count_words_in_file(file_name)\n",
    "print(f\"Number of words in the file: {word_count}\")\n"
   ]
  },
  {
   "cell_type": "code",
   "execution_count": 13,
   "metadata": {},
   "outputs": [
    {
     "name": "stdout",
     "output_type": "stream",
     "text": [
      "The result of division is: 13.0\n"
     ]
    }
   ],
   "source": [
    "#21 WAP to handle ZeroDivisionError gracefully using exception handling.\n",
    "def divide_numbers(num1, num2):\n",
    "    try:\n",
    "        # Attempt to divide the two numbers\n",
    "        result = num1 / num2\n",
    "    except ZeroDivisionError:\n",
    "        # Handle the case when num2 is zero\n",
    "        return \"Error: Division by zero is not allowed.\"\n",
    "    else:\n",
    "        # If no exception, return the result\n",
    "        return f\"The result of division is: {result}\"\n",
    "\n",
    "# Take user input for the two numbers\n",
    "num1 = float(input(\"Enter the numerator: \"))\n",
    "num2 = float(input(\"Enter the denominator: \"))\n",
    "\n",
    "# Call the function and print the result\n",
    "print(divide_numbers(num1, num2))\n",
    "\n",
    "\n",
    "\n",
    "\n",
    "\n"
   ]
  },
  {
   "cell_type": "code",
   "execution_count": null,
   "metadata": {},
   "outputs": [],
   "source": [
    "# Q23) WAP to demonstrate how to use lambda in filter() function.\n",
    "# List of numbers\n",
    "numbers = [1, 2, 3, 4, 5, 6, 7, 8, 9, 10]\n",
    "\n",
    "even_numbers = list(filter(lambda x: x % 2 == 0, numbers))\n",
    "\n",
    "print(\"Even numbers:\", even_numbers)\n",
    "\n"
   ]
  },
  {
   "cell_type": "code",
   "execution_count": null,
   "metadata": {},
   "outputs": [
    {
     "name": "stdout",
     "output_type": "stream",
     "text": [
      "Even Numbers:  [2, 4, 6, 8, 10]\n"
     ]
    }
   ],
   "source": [
    "# Q23. Wap to demonstrate how to use lambda in map() function.\n",
    "# List of numbers\n",
    "numbers = [1, 2, 3, 4, 5]\n",
    " \n",
    "squared_numbers = list(map(lambda x: x ** 2, numbers))\n",
    "\n",
    "print(\"Squared numbers:\", squared_numbers)\n",
    "\n",
    "\n",
    "\n",
    "\n",
    "\n",
    "\n"
   ]
  },
  {
   "cell_type": "code",
   "execution_count": 157,
   "metadata": {},
   "outputs": [
    {
     "name": "stdout",
     "output_type": "stream",
     "text": [
      "Class variable updated to: 10\n",
      "Hello, Raj! Welcome to MyClass.\n"
     ]
    }
   ],
   "source": [
    "# Q24. WAP to demonstrate how to define class method and static method in a class.\n",
    "class MyClass:\n",
    "    class_variable = 0  # A class variable\n",
    "\n",
    "    def __init__(self, value):\n",
    "        self.value = value  # An instance variable\n",
    "\n",
    "    # Class method to modify the class variable\n",
    "    @classmethod\n",
    "    def set_class_variable(cls, new_value):\n",
    "        cls.class_variable = new_value\n",
    "        print(f\"Class variable updated to: {cls.class_variable}\")\n",
    "\n",
    "    # Static method to perform a general operation\n",
    "    @staticmethod\n",
    "    def greet(name):\n",
    "        print(f\"Hello, {name}! Welcome to MyClass.\")\n",
    "\n",
    "# Using the class method\n",
    "MyClass.set_class_variable(10)  # This will update the class variable\n",
    "\n",
    "# Using the static method\n",
    "MyClass.greet(\"Raj\")  # This will print a greeting message\n",
    "\n",
    "\n",
    "\n",
    "\n"
   ]
  },
  {
   "cell_type": "code",
   "execution_count": 158,
   "metadata": {},
   "outputs": [
    {
     "ename": "",
     "evalue": "",
     "output_type": "error",
     "traceback": [
      "\u001b[1;31mThe Kernel crashed while executing code in the current cell or a previous cell. \n",
      "\u001b[1;31mPlease review the code in the cell(s) to identify a possible cause of the failure. \n",
      "\u001b[1;31mClick <a href='https://aka.ms/vscodeJupyterKernelCrash'>here</a> for more info. \n",
      "\u001b[1;31mView Jupyter <a href='command:jupyter.viewOutput'>log</a> for further details."
     ]
    }
   ],
   "source": [
    "# Q25. Create a GUI application to add two numbers using Label, Entry and Button\n",
    "# widgets.\n",
    "import tkinter as tk\n",
    "\n",
    "# Create the main window\n",
    "root = tk.Tk()\n",
    "root.title(\"Add Two Numbers\")\n",
    "\n",
    "# Set the size of the window\n",
    "root.geometry(\"300x200\")\n",
    "\n",
    "# Function to add two numbers and display the result\n",
    "def add_numbers():\n",
    "    try:\n",
    "        # Get the numbers from entry widgets and add them\n",
    "        num1 = float(entry1.get())\n",
    "        num2 = float(entry2.get())\n",
    "        result = num1 + num2\n",
    "        \n",
    "        # Display the result in the result label\n",
    "        result_label.config(text=f\"Result: {result}\")\n",
    "    except ValueError:\n",
    "        result_label.config(text=\"Invalid input! Please enter numbers.\")\n",
    "\n",
    "# Create the widgets\n",
    "label1 = tk.Label(root, text=\"Enter first number:\")\n",
    "label1.pack(pady=5)\n",
    "\n",
    "entry1 = tk.Entry(root)\n",
    "entry1.pack(pady=5)\n",
    "\n",
    "label2 = tk.Label(root, text=\"Enter second number:\")\n",
    "label2.pack(pady=5)\n",
    "\n",
    "entry2 = tk.Entry(root)\n",
    "entry2.pack(pady=5)\n",
    "\n",
    "add_button = tk.Button(root, text=\"Add\", command=add_numbers)\n",
    "add_button.pack(pady=10)\n",
    "\n",
    "result_label = tk.Label(root, text=\"Result:\")\n",
    "result_label.pack(pady=10)\n",
    "\n",
    "# Start the main loop\n",
    "root.mainloop()\n",
    "\n",
    "\n",
    "\n",
    "\n",
    "\n",
    "\n",
    "\n",
    "\n",
    "\n"
   ]
  }
 ],
 "metadata": {
  "kernelspec": {
   "display_name": "Python 3",
   "language": "python",
   "name": "python3"
  },
  "language_info": {
   "codemirror_mode": {
    "name": "ipython",
    "version": 3
   },
   "file_extension": ".py",
   "mimetype": "text/x-python",
   "name": "python",
   "nbconvert_exporter": "python",
   "pygments_lexer": "ipython3",
   "version": "3.12.6"
  }
 },
 "nbformat": 4,
 "nbformat_minor": 2
}
